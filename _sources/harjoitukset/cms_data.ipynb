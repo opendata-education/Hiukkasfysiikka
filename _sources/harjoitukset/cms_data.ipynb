{
 "cells": [
  {
   "cell_type": "markdown",
   "metadata": {},
   "source": [
    "# CMS ja avoin data"
   ]
  },
  {
   "cell_type": "markdown",
   "metadata": {},
   "source": [
    "CERNissä tuotetaan valtavat määrät dataa jatkuvasti. Compact Muon Solenoid (eli CMS) -koe on julkaissut omaansa avoimeen jakoon hirvittäviä määriä vuodesta 2014 lähtien ja seuraavan vuosikymmenen mittaan laitetaan loputkin. Vuoden 2023 aikana lähes kaikki ensimmäisten LHC-ajojen aikaiset havainnot löytyvät CERNin avoimen datan portaalista (https://opendata.cern.ch/).\n",
    "\n",
    "Tutustutaan tässä harjoitteessa tapoihin, joilla voidaan tarkastella mitä näistä mittauksista voitaisiin selvittää. Tämä tarjoaa opiskelijoille mainion tilaisuuden puuhastella autenttisen huippututkimuksen aineistojen parissa."
   ]
  },
  {
   "cell_type": "markdown",
   "metadata": {},
   "source": [
    "### 1. Käytetty data"
   ]
  },
  {
   "cell_type": "code",
   "execution_count": null,
   "metadata": {},
   "outputs": [],
   "source": [
    "# Olen koodisolu! Risuaidalla merkattu rivi on kommentti, joka tekee koodista ihmiselle luettavampaa.\n",
    "# Aja tämä solu ensin, jotta python tietää mitä sillä ollaan tekemässä (eli haetaan sopivat paketit).\n",
    "\n",
    "import pandas as pd\n",
    "import numpy as np\n",
    "import matplotlib.pyplot as plt\n",
    "from scipy.stats import norm\n"
   ]
  },
  {
   "cell_type": "code",
   "execution_count": null,
   "metadata": {},
   "outputs": [],
   "source": [
    "# Avataan muutaman törmäytyksen tapahtumat.\n",
    "\n",
    "kaksoismyonit = pd.read_csv('https://raw.githubusercontent.com/cms-opendata-education/cms-jupyter-materials-finnish/master/Data/Dimuon_DoubleMu.csv')\n",
    "jpsi = pd.read_csv('https://raw.githubusercontent.com/cms-opendata-education/cms-jupyter-materials-finnish/master/Data/Jpsimumu_Run2011A.csv')"
   ]
  },
  {
   "cell_type": "code",
   "execution_count": null,
   "metadata": {},
   "outputs": [],
   "source": [
    "# Tarkastellaan miltä data näyttää. Voit kokeilla myös jpsi.head(), laittaa sulkuihin numeron jne.\n",
    "\n",
    "kaksoismyonit.head()"
   ]
  },
  {
   "cell_type": "code",
   "execution_count": null,
   "metadata": {},
   "outputs": [],
   "source": [
    "# Katsotaan paljonko tapahtumia näissä seteissä on.\n",
    "\n",
    "print (len(kaksoismyonit))\n",
    "print (len(jpsi))"
   ]
  },
  {
   "cell_type": "markdown",
   "metadata": {},
   "source": [
    "### 2. Invariantti massa"
   ]
  },
  {
   "cell_type": "markdown",
   "metadata": {},
   "source": [
    "Invariantti massa on matemaattinen suure, jonka avulla voidaan selvittää millaisen hiukkasen hajoamisesta törmäyksessä havaitut hiukkaset liikemäärineen ja energioineen syntyivät. Sillä on suuri merkitys hiukkastutkimuksessa, jossa monesti etsitään tietyille massoille ennustettujen hiukkasten piikkejä havainnoista.\n",
    "\n",
    "Histogrammi on voimakas työkalu tällaiseen tarkoitukseen."
   ]
  },
  {
   "cell_type": "code",
   "execution_count": null,
   "metadata": {},
   "outputs": [],
   "source": [
    "# Suoritetaan histogrammin piirtäminen:\n",
    "\n",
    "fig = plt.figure(figsize = (15, 10))\n",
    "plt.hist(kaksoismyonit.M, bins = 100)\n",
    "\n",
    "# Näillä riveillä ainoastaan määritellään otsikko sekä akseleiden tekstit.\n",
    "\n",
    "plt.xlabel('Invariantti massa [GeV/c²]', fontsize = 15)\n",
    "plt.ylabel('Tapahtumien lukumäärä', fontsize = 15)\n",
    "plt.title('Kahden myonin invariantin massan histogrammi \\n', fontsize = 15) # \\n luo uuden rivin otsikon muotoilua varten\n",
    "\n",
    "# Tehdään kuvaaja näkyväksi.\n",
    "\n",
    "plt.show()"
   ]
  },
  {
   "cell_type": "markdown",
   "metadata": {},
   "source": [
    "Signaalista nähdään monia asioita, mutta tarkastellaan yhtä kiinnostavaa huippua 80-100 GeVin kieppeillä rajaamalla kuvaajaa."
   ]
  },
  {
   "cell_type": "code",
   "execution_count": null,
   "metadata": {},
   "outputs": [],
   "source": [
    "# Suoritetaan histogrammin piirtäminen:\n",
    "\n",
    "fig = plt.figure(figsize = (15, 10))\n",
    "plt.hist(kaksoismyonit.M, bins = 300, range = (80,100))\n",
    "\n",
    "# Näillä riveillä ainoastaan määritellään otsikko sekä akseleiden tekstit.\n",
    "\n",
    "plt.xlabel('Invariantti massa [GeV/c²]', fontsize = 15)\n",
    "plt.ylabel('Tapahtumien lukumäärä', fontsize = 15)\n",
    "plt.title('Kahden myonin invariantin massan histogrammi \\n', fontsize = 15) # \\n luo uuden rivin otsikon muotoilua varten\n",
    "\n",
    "# Tehdään kuvaaja näkyväksi.\n",
    "\n",
    "plt.show()"
   ]
  },
  {
   "cell_type": "markdown",
   "metadata": {},
   "source": [
    "Tästä nähdään, että piikki sijoittuu noin 91 GeVin hujakoille, eli myonien taustalta löytynee Z-bosoni."
   ]
  },
  {
   "cell_type": "code",
   "execution_count": null,
   "metadata": {},
   "outputs": [],
   "source": [
    "# Suoritetaan histogrammin piirtäminen myös J/psille.\n",
    "\n",
    "fig = plt.figure(figsize = (15, 10))\n",
    "plt.hist(jpsi.M, bins = 300)\n",
    "\n",
    "# Näillä riveillä ainoastaan määritellään otsikko sekä akseleiden tekstit.\n",
    "\n",
    "plt.xlabel('Invariantti massa [GeV/c²]', fontsize = 15)\n",
    "plt.ylabel('Tapahtumien lukumäärä', fontsize = 15)\n",
    "plt.title('J/$\\psi$:n metsästys \\n', fontsize = 15) # \\n luo uuden rivin otsikon muotoilua varten\n",
    "\n",
    "# Tehdään kuvaaja näkyväksi.\n",
    "\n",
    "plt.show()"
   ]
  },
  {
   "cell_type": "code",
   "execution_count": null,
   "metadata": {},
   "outputs": [],
   "source": [
    "# Vastaavasti puristettuna kiinnostavampaan piikkiin.\n",
    "\n",
    "fig = plt.figure(figsize = (15, 10))\n",
    "plt.hist(jpsi.M, bins = 50, range = (3,3.2))\n",
    "\n",
    "# Näillä riveillä ainoastaan määritellään otsikko sekä akseleiden tekstit.\n",
    "\n",
    "plt.xlabel('Invariantti massa [GeV/c²]', fontsize = 15)\n",
    "plt.ylabel('Tapahtumien lukumäärä', fontsize = 15)\n",
    "plt.title('J/$\\psi$:n metsästys \\n', fontsize = 15) # \\n luo uuden rivin otsikon muotoilua varten\n",
    "\n",
    "# Tehdään kuvaaja näkyväksi.\n",
    "\n",
    "plt.show()"
   ]
  },
  {
   "cell_type": "markdown",
   "metadata": {},
   "source": [
    "### 3. Jaottelu ja vertailu"
   ]
  },
  {
   "cell_type": "markdown",
   "metadata": {},
   "source": [
    "Joskus on kiinnostavaa tarkastella miten eri osat datasta vaikuttavat lopputulokseen. Kokeillaan tässä jakaa dataa sen mukaan, oliko havaituilla hiukkasilla korkea vai matala energia."
   ]
  },
  {
   "cell_type": "code",
   "execution_count": null,
   "metadata": {},
   "outputs": [],
   "source": [
    "ehto = 150\n",
    "\n",
    "KorkeaEnergia = kaksoismyonit[(kaksoismyonit.E1 + kaksoismyonit.E2) >= ehto]\n",
    "MatalaEnergia = kaksoismyonit[(kaksoismyonit.E1 + kaksoismyonit.E2) < ehto]"
   ]
  },
  {
   "cell_type": "code",
   "execution_count": null,
   "metadata": {},
   "outputs": [],
   "source": [
    "fig = plt.figure(figsize = (15, 10))\n",
    "plt.hist(KorkeaEnergia.M, bins = 300, range = (80,100), alpha = 0.5, label = 'Korkea E', facecolor = 'k')\n",
    "plt.hist(MatalaEnergia.M, bins = 300, range = (80,100), alpha = 0.5, label = 'Matala E')\n",
    "\n",
    "plt.xlabel('Invariantti massa [GeV/c²]', fontsize = 15)\n",
    "plt.ylabel('Tapahtumien lukumäärä', fontsize = 15)\n",
    "plt.title('Kahden myonin invariantin massan histogrammi \\n', fontsize = 15)\n",
    "plt.legend (loc = 'upper right')\n",
    "\n",
    "plt.show()"
   ]
  },
  {
   "cell_type": "markdown",
   "metadata": {},
   "source": [
    "Näyttäisi siltä, että matalaenergisissä tapauksissa syntyisi enemmän kiinnostavia tapahtumia, mutta tässä on pidettävä mielessä histogrammin toimintaperiaate. Pikainen tarkastus kertoo monestako tapahtumasta kumpikin kuvaaja on koostettu."
   ]
  },
  {
   "cell_type": "code",
   "execution_count": null,
   "metadata": {},
   "outputs": [],
   "source": [
    "print (len(KorkeaEnergia))\n",
    "print (len(MatalaEnergia))"
   ]
  },
  {
   "cell_type": "markdown",
   "metadata": {},
   "source": [
    "Mitenhän käy, jos jakoehdoksi laittaa vaikkapa 90 GeV? Mitä havaitaan, jos histogrammin alue alkaisikin jo matalasta päästä?"
   ]
  },
  {
   "cell_type": "markdown",
   "metadata": {},
   "source": [
    "### 4. Pseudorapiditeetti"
   ]
  },
  {
   "cell_type": "markdown",
   "metadata": {},
   "source": [
    "<img src = \"https://upload.wikimedia.org/wikipedia/commons/thumb/e/ed/Pseudorapidity_plot.svg/695px-Pseudorapidity_plot.svg.png\"\n",
    "align = \"left\" style = \"height:300px\">\n",
    "\n",
    "Pseudorapiditeetti $\\eta$ (eetta) kuvaa havaitun hiukkasen poikkeamaa hiukkassuihkun suunnasta. Suuret, yli 2,5 arvot menevät niin suihkua pitkin, ettei niitä juurikaan saada mitattua, kun taas nollaa lähestyvät jäävät tarkimmin havainnointilaitteistoihin törmäysputken ympärillä.\n",
    "\n",
    "Pseudorapiditeetista $\\eta \\equiv -ln[tan\\frac{\\theta}{2}]$ saadaan myös näkyviin törmäystapahtumien kulmajakauma, mikäli se auttaa hahmottamaan tilannetta.\n",
    "\n",
    "Viereisessä kuvassa ajatellaan hiukkassuihkun kulkevan vaakasuuntaisesti vasemmalta oikealle.\n",
    "\n"
   ]
  },
  {
   "cell_type": "code",
   "execution_count": null,
   "metadata": {},
   "outputs": [],
   "source": [
    "prapMyonit = pd.concat([kaksoismyonit['eta1'],kaksoismyonit['eta2']])\n",
    "prapJpsi = pd.concat([jpsi.eta1,jpsi.eta2])\n",
    "\n",
    "kulmatMyonit = prapMyonit.copy()\n",
    "kulmatMyonit[:] = [2*np.arctan(np.exp(x))*360/(2*np.pi) for x in kulmatMyonit]\n",
    "\n",
    "kulmatJpsi = prapJpsi.copy()\n",
    "kulmatJpsi[:] = [2*np.arctan(np.exp(x))*360/(2*np.pi) for x in kulmatJpsi]"
   ]
  },
  {
   "cell_type": "code",
   "execution_count": null,
   "metadata": {},
   "outputs": [],
   "source": [
    "fig = plt.figure(figsize = (15, 10))\n",
    "plt.hist(prapMyonit, bins = 100, range = (-3,3))\n",
    "\n",
    "plt.xlabel('Pseudorapiditeetti', fontsize = 15)\n",
    "plt.ylabel('Tapahtumien lukumäärä', fontsize = 15)\n",
    "plt.title('Jakauma \\n', fontsize = 15)\n",
    "\n",
    "plt.show()\n"
   ]
  },
  {
   "cell_type": "code",
   "execution_count": null,
   "metadata": {},
   "outputs": [],
   "source": [
    "fig = plt.figure(figsize = (15, 10))\n",
    "plt.hist(kulmatMyonit, bins = 180, range = (0,180))\n",
    "\n",
    "plt.xlabel('Kulma (deg)', fontsize = 15)\n",
    "plt.ylabel('Tapahtumien lukumäärä', fontsize = 15)\n",
    "plt.title('Jakauma \\n', fontsize = 15)\n",
    "\n",
    "plt.show()"
   ]
  },
  {
   "cell_type": "markdown",
   "metadata": {},
   "source": [
    "Kuvaajissa on selkeitä symmetrisiä muotoja. Mistähän moinen voisi johtua?\n",
    "\n",
    "Hiukkasilla on poikittaista liikemäärää $p_T$. Mistähän voisi johtua seuraava pseudorapiditeetin ja $p_T$:n välinen suhde?"
   ]
  },
  {
   "cell_type": "code",
   "execution_count": null,
   "metadata": {},
   "outputs": [],
   "source": [
    "fig = plt.figure(figsize = (15, 10))\n",
    "poikittaiset = pd.concat([kaksoismyonit.pt1,kaksoismyonit.pt2])\n",
    "plt.scatter(prapMyonit, poikittaiset, s = 0.5)\n",
    "\n",
    "#plt.ylim(0,6) # aja solu ensin niin, että tämä rivi on kommentti. Poista sitten ensimmäinen risuaita ja aja uudestaan.\n",
    "\n",
    "plt.title('Hiukkasten poikittaisliikemäärä $\\eta$ suhteen \\n', fontsize = 15)\n",
    "plt.xlabel('Pseudorapiditeetti', fontsize = 15)\n",
    "plt.ylabel('Poikittaisliikemäärä', fontsize = 15)\n",
    "\n",
    "plt.show()"
   ]
  },
  {
   "cell_type": "markdown",
   "metadata": {},
   "source": [
    "### 5. Resoluutio"
   ]
  },
  {
   "cell_type": "markdown",
   "metadata": {},
   "source": [
    "Pseudorapiditeetti määrittää havainnoitujen hiukkasten suuntaa, joka osaltaan kertoo miten tarkkoja tuloksia voidaan saada. Teknisistä syistä $\\eta = \\left | 2,5 \\right |$ on suunnilleen äärirajalla mittalaitteiden asemoinnin suhteen. Mitä keskemmälle mitta-asemaa havainnot tulevat, sitä tarkemmin niistä voidaan sanoa jotakin, kuten nähdään seuraavista kuvaajista."
   ]
  },
  {
   "cell_type": "code",
   "execution_count": null,
   "metadata": {},
   "outputs": [],
   "source": [
    "korkea = 1\n",
    "\n",
    "suuret_eetat = kaksoismyonit[(abs(kaksoismyonit.eta1) >= korkea) & (abs(kaksoismyonit.eta2) >= korkea)]\n",
    "pienet_eetat = kaksoismyonit[(abs(kaksoismyonit.eta1) < korkea) & (abs(kaksoismyonit.eta2) < korkea)]"
   ]
  },
  {
   "cell_type": "code",
   "execution_count": null,
   "metadata": {},
   "outputs": [],
   "source": [
    "fig = plt.figure(figsize = (15, 10))\n",
    "plt.hist(suuret_eetat.M, bins = 300, range = (80,100), alpha = 0.5, label = 'Korkea $\\eta$', facecolor = 'black')\n",
    "plt.hist(pienet_eetat.M, bins = 300, range = (80,100), alpha = 0.5, label = 'Matala $\\eta$')\n",
    "\n",
    "plt.xlabel('Invariantti massa [GeV/c²]', fontsize = 15)\n",
    "plt.ylabel('Tapahtumien lukumäärä', fontsize = 15)\n",
    "plt.title('Invariantin massan histogrammi pseudorapiditeetin mukaan \\n', fontsize = 15)\n",
    "plt.legend (loc = 'upper right', fontsize = 15)\n",
    "\n",
    "plt.show()"
   ]
  },
  {
   "cell_type": "code",
   "execution_count": null,
   "metadata": {},
   "outputs": [],
   "source": [
    "print (len(suuret_eetat))\n",
    "print (len(pienet_eetat))"
   ]
  },
  {
   "cell_type": "markdown",
   "metadata": {},
   "source": [
    "### 6. Sovitusta ja tilastoja"
   ]
  },
  {
   "cell_type": "markdown",
   "metadata": {},
   "source": [
    "Suurten aineistojen käsittely kuvaajina auttaa niiden hahmottamisessa, mutta kuvien ohella tietokoneet ovat hyviä ilmiöitä kuvaavien sovitteiden etsimiseen sekä tilastollisten termien esiinkaivamiseen. Pythonissa on sisäänrakennettuja toimintoja esimerkiksi keskiarvojen, varianssin tai keskihajonnan laskemiseksi. Moneen havaintojoukkoon voi koettaa sovittaa tyypillisiä perusjakaumia, kuten normaalijakaumaa."
   ]
  },
  {
   "cell_type": "code",
   "execution_count": null,
   "metadata": {
    "scrolled": false
   },
   "outputs": [],
   "source": [
    "alaraja = 87\n",
    "ylaraja = 95\n",
    "\n",
    "pala = kaksoismyonit[(kaksoismyonit.M > alaraja) & (kaksoismyonit.M < ylaraja)]\n",
    "\n",
    "fig = plt.figure(figsize = (15, 10))\n",
    "\n",
    "esite_ala = 80\n",
    "esite_yla = 100\n",
    "\n",
    "alue = kaksoismyonit[(kaksoismyonit.M > esite_ala) & (kaksoismyonit.M < esite_yla)]\n",
    "\n",
    "kerroin = len(pala)/len(alue)\n",
    "(mu, sigma) = norm.fit(pala.M)\n",
    "\n",
    "n, bins, patches = plt.hist(kaksoismyonit.M, 300, density = 1, facecolor = 'green', alpha = 0.75, histtype = 'stepfilled',\n",
    "                            range = (esite_ala,esite_yla))\n",
    "\n",
    "y = kerroin*norm.pdf( bins, mu, sigma)\n",
    "l = plt.plot(bins, y, 'r--', linewidth = 2)\n",
    "\n",
    "plt.xlabel('Massa [GeV/$c^2$]', fontsize = 15)\n",
    "plt.ylabel('Tapahtuman todennäköisyys', fontsize = 15)\n",
    "plt.title(r'$\\mathrm{Histogrammi\\ invarianteista\\ massoista\\ normeerattuna\\ ykköseen:}\\ \\mu=%.3f,\\ \\sigma=%.3f$'\n",
    "          %(mu,sigma),fontsize=15)\n",
    "plt.grid(True)\n",
    "\n",
    "plt.show()"
   ]
  },
  {
   "cell_type": "markdown",
   "metadata": {},
   "source": [
    "Hiukkasfysiikan tarpeisiin normaalijakauma on kuitenkin väärä työkalu, vaikka satunnaisesti näyttäisikin soveltuvan yksittäisiin paikkoihin. Poisson-jakauma olisi asteen parempi, mutta tyypillisesti käytetään Breit-Wigner -jakaumaa:\n",
    "\n",
    "$$\n",
    "N(E) = \\frac{K}{(E-M)^2 + \\frac{\\Gamma^2}{4}}\n",
    "$$\n",
    "\n",
    "jossa $E$ on energia, $M$ piikin huippukohta, $\\Gamma$ jakauman luonnollinen leveys ja $K$ vakio. Resonanssissa havaitun hiukkasen elinaika $\\tau$ liittyy jakauman leveyteen seuraavasti:\n",
    "\n",
    "$$\n",
    "\\Gamma \\equiv \\frac{\\hbar}{\\tau}\n",
    "$$\n",
    "\n",
    "Voit kokeilla B-W-sovitusta alla eri kohtiin aineistoa. Rajojen siirtäminen vaatii myös alkuarvojen huippukohdan siirtämistä."
   ]
  },
  {
   "cell_type": "code",
   "execution_count": null,
   "metadata": {},
   "outputs": [],
   "source": [
    "# Ensin määritetään tarkastelualueen rajat ja tarkkuus.\n",
    "\n",
    "lowerlimit = 2\n",
    "upperlimit = 4\n",
    "bins = 100\n",
    "\n",
    "# Haetaan aineisto. \n",
    "\n",
    "ds = pd.read_csv(\n",
    "    'https://raw.githubusercontent.com/cms-opendata-education/cms-jupyter-materials-finnish/master/Data/Dimuon_DoubleMu.csv')\n",
    "i_mass = ds.M\n",
    "hist, edges = np.histogram(i_mass, bins = 100, range = (lowerlimit, upperlimit))\n",
    "\n",
    "# Määritetään funktio jakaumalle.\n",
    "\n",
    "def breitwigner(E, gamma, M, a, b, A):\n",
    "    return a*E+b+A*( (2*np.sqrt(2)*M*gamma*np.sqrt(M**2*(M**2+gamma**2)))/(np.pi*np.sqrt(M**2+np.sqrt(M**2*(M**2+gamma**2)))) )/((E**2-M**2)**2+M**2*gamma**2)\n",
    "\n",
    "from scipy.optimize import curve_fit\n",
    "\n",
    "# Annetaan koneelle alkuarvot ja iteroidaan pari kertaa parantaen sovitusta.\n",
    "\n",
    "#initials = [1, 91, -1, 200, 13000] # Z-bosonille 90 GeVin kieppeillä\n",
    "initials = [1, 3.1, -1, 100, 13000] # J/psi 3 GeVin kieppeillä\n",
    "x = np.linspace(lowerlimit, upperlimit, bins)\n",
    "y = hist\n",
    "\n",
    "i = 0\n",
    "while i < 5:\n",
    "    popt, pcov = curve_fit(breitwigner, x, y, p0 = initials, sigma = np.sqrt(y))\n",
    "    i = i+1\n",
    "    initials = popt\n",
    "    #print(initials) for checking up\n",
    "    \n",
    "error = np.sqrt(np.diag(pcov)) \n",
    "\n",
    "# Piirretään kuvaajat ja printataan tilastolliset tiedot näkyviin.\n",
    "\n",
    "plt.figure(figsize = (10,5))\n",
    "plt.hist(i_mass, bins, range = (lowerlimit,upperlimit), label = \"Alkuperäinen histogrammi\", alpha = 0.5 )\n",
    "plt.plot(x, breitwigner(x, *popt), color = 'r', label = \"Breit-Wigner -sovitus\")\n",
    "plt.scatter(x,y, color = 'b', label = \"\")\n",
    "plt.legend(loc = \"upper right\")\n",
    "plt.xlabel(\"\\n Invariantti massa (GeV)\", fontsize = 15)\n",
    "plt.ylabel(\"Tapahtumien lukumäärä \\n\", fontsize = 15)\n",
    "plt.title(\"Hiukkanen on hajonnut kahdeksi myoniksi \\n\", fontsize = 15)\n",
    "plt.show()\n",
    "\n",
    "print(\"Tämän hiukkasen massa on: \" + str(popt[1])+ u\" \\u00B1 \" + str(error[1]) + \" GeV\")\n",
    "\n",
    "tau_high = 1/(popt[0]-error[0])\n",
    "tau_low = 1/(popt[0]+error[0])\n",
    "var = (tau_high - tau_low)/2\n",
    "tau = tau_high - var\n",
    "\n",
    "print(\"Tämän hiukkasen elinaika on: \" + str(tau) + u\" \\u00B1 \" + str(var) + \" GeV^-1\" )"
   ]
  }
 ],
 "metadata": {
  "kernelspec": {
   "display_name": "Python 3 (ipykernel)",
   "language": "python",
   "name": "python3"
  },
  "language_info": {
   "codemirror_mode": {
    "name": "ipython",
    "version": 3
   },
   "file_extension": ".py",
   "mimetype": "text/x-python",
   "name": "python",
   "nbconvert_exporter": "python",
   "pygments_lexer": "ipython3",
   "version": "3.9.7"
  }
 },
 "nbformat": 4,
 "nbformat_minor": 2
}
