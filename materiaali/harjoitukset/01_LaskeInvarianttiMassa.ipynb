{
 "cells": [
  {
   "cell_type": "markdown",
   "metadata": {},
   "source": [
    "# 1. Laske invariantti massa"
   ]
  },
  {
   "cell_type": "markdown",
   "metadata": {},
   "source": [
    "Tässä tehtävässä opetellaan laskemaan CMS-ilmaisimessa havaittujen hiukkasten __invariantti massa__. Invariantti massa on hiukkasfyysikoille tärkeä työkalu hiukkasten tunnistamisessa."
   ]
  },
  {
   "cell_type": "markdown",
   "metadata": {},
   "source": [
    "## Mikä on invariantti massa?\n",
    "Hiukkasilla on nille ominainen massa, joka kuvaa hiukkasen hitautta. Se on sama massa $m$ jota käytetään Newtonin toisessa laissa $F=ma$ ja Einsteinin yhtälössä $E=mc^2$ (missä E viittaa hiukkasen energiaan levossa). On mahdoton ajatus punnita esimerkiksi Higgsin hiukkasta jonka eliniänodote on luokkaa $10^{-22}$ sekuntia [4]. Kun hiukkanen, vaikkapa Higgsin hiukkanen hajoaa, syntyy jälleen uusia hiukkasia. Hiukkasen hajoamisesta sinkoilevat uudet hiukkaset taas saattavat kulkea jopa valonnopeudella eikä niillä välttämättä edes ole massaa (esim. fotonit). CMS:n kaltainen laite voi kuitenkin mitata näiden hiukkasten liikemäärää ja energiaa, joiden avulla voidaan laskea _invariantti massa_. Se on matemaattinen arvo joka on \"invariantti\" mittausympäristölle, eli se voidaan laskea missä ja mille tahansa. Jos sen kuitenkin laskee tietystä hajoamisesta syntyneille tytärhiukkasille saadaan arvo joka on lähellä emohiukkasen massaa. Esimerkiksi Higgsin hiukkanen voi hajota neljäksi elektroniksi, joiden liikemäärän ja energian voimme mitata hiukkasilmaisimella. Näiden neljän elektronin liikemäärästä ja energiasta voimme laskea invariantin massan, joka vastaisi Higgsin hiukkasen massaa, sillä elektronit ovat peräisin Higgsistä.\n",
    "\n",
    "Invariantti massa siis säilyy hiukkasen hajotessa uusiksi hiukkasiksi. Tämän ominaisuuden ansiosta se on voittamaton työkalu kokeellisen hiukkasfysiikan tutkijoille. Hiukkasilmaisin, kuten CMS, havaitsee lähinnä stabiileja hiukkasia. Määrittääkseen sen, minkä hiukkasen hajoamisesta nuo stabiilit hiukkaset ovat peräisin, tutkijoiden tulee tarkastella suuria datamääriä. Voimme laskea invariantin massan usealle eri hajoamistapahtumalle ja piirtää kaikista laskemistamme invarianteista massoista histogrammi.\n",
    "[Lisätietoa englanniksi](https://profmattstrassler.com/articles-and-posts/particle-physics-basics/mass-energy-matter-etc/mass-and-energy/)\n",
    "\n",
    "Alla olevassa kuvassa on piirretty invariantin massan histogrammi sellaisista törmäyksistä, joissa hiukkasilmaisin on havainnut kaksi myonia. Piikit histogrammissa vastaavat emohiukkasta, josta myonit ovat peräisin.\n",
    "\n",
    "<br>\n",
    " <img src=\"https://github.com/cms-opendata-education/cms-jupyter-materials-finnish/blob/master/Kuvat/inv_massa.PNG?raw=true\"  align=\"left\" width=\"600px\" title=\"[Kuva 1]  Törmäyksestä syntyneiden kahden myonin invariantin massan jakauma vuosilta 2017 ja 2018. Jakaumasta erottaa selvästi niiden hiukkasten piikit jotka voivat hajota kahdeksi myoniksi.\">\n",
    " <br>"
   ]
  },
  {
   "cell_type": "markdown",
   "metadata": {},
   "source": [
    "****\n",
    "### Datan hakeminen\n",
    "\n",
    "Tarkoituksenamme on piirtää invariantin massan histogrammi CMS:n avoimesta datasta vuodelta 2010. Dataan on valikoitu tapahtumia joissa syntyy kaksi suurienergistä myonia. Data on tallennettu csv-muotoon tiedostoon 'Zmumu.csv' [1]. Kyseisessä tiedostossa on laskettu jo valmiiksi invariantti massa, mutta lasketaan se muiden muuttujien avulla harjoituksen vuoksi. Alustetaan lasku hakemalla käyttämämme data sekä tarvittavat moduulit (eli koodikirjastot, jotka mahdollistavat valmiiksi määriteltyjen funktioiden käytön)."
   ]
  },
  {
   "cell_type": "markdown",
   "metadata": {},
   "source": [
    "Muista. että voit ajaa koodisolun klikkaamalla sen aktiiviseksi ja painamalla CTRL+ENTER."
   ]
  },
  {
   "cell_type": "code",
   "execution_count": null,
   "metadata": {},
   "outputs": [],
   "source": [
    "# Haetaan tarvittavat moduulit. Nimetään pandas-moduuli 'pd'ksi ja numpy-moduuli 'np'ksi, jotta koko nimeä ei\n",
    "# tarvitse kirjoittaa aina, kun haluamme käyttää jotain funktiota kyseisestä moduulista.\n",
    "import pandas as pd\n",
    "import numpy as np\n",
    "\n",
    "# Haetaan data ja tallennetaan se muuttujaan 'datasetti'. Data voidaan hakea tiedostosta pandas-moduulin\n",
    "# read_csv() -funktiolla. Sulkeiden sisään kirjoitetaan datatiedoston polku.\n",
    "datasetti = pd.read_csv('http://opendata.cern.ch/record/307/files/Zmumu.csv')"
   ]
  },
  {
   "cell_type": "markdown",
   "metadata": {},
   "source": [
    "Saamme tarkistettua tallentamamme datan sisällön tulostamalla tiedoston viisi ensimmäistä riviä alla olevalla koodilla:"
   ]
  },
  {
   "cell_type": "code",
   "execution_count": null,
   "metadata": {
    "scrolled": true
   },
   "outputs": [],
   "source": [
    "# head() -metodi näyttää datan viisi ensimmäistä riviä. \n",
    "\n",
    "datasetti.head()"
   ]
  },
  {
   "cell_type": "markdown",
   "metadata": {},
   "source": [
    "Haetussa datassa on monta tapahtumaa (event), joista jokaisesta on tallennettu useita arvoja. Tehtävän kannalta oleellisimpia ovat,\n",
    "   - __Run__ ja __Event__ : kertovat mistä törmäyksestä kyseisen rivin data on peräisin.\n",
    "   - __E__ : kyseisen myonin (1 tai 2) energia.\n",
    "   - __px,py,pz__: myonin liikemäärän komponentit."
   ]
  },
  {
   "cell_type": "markdown",
   "metadata": {},
   "source": [
    "****\n",
    "### Invariantin massan laskeminen"
   ]
  },
  {
   "cell_type": "markdown",
   "metadata": {},
   "source": [
    "Käytetään laskussa seuraavaa lauseketta invariantille massalle $M$: \n",
    "\n",
    "\n",
    "$$ M = \\sqrt{(E_1 + E_2)^2 - \\|\\textbf{p}_1 + \\textbf{p}_2 \\| ^2} = \\sqrt{(E_1+E_2)^2-((p_{1_x}+p_{2_x})^2+(p_{1_y}+p_{2_y})^2+(p_{1_z}+p_{2_z})^2)},$$\n",
    "\n",
    "missä $\\textbf{p}$ sisältää liikemäärän kaikki komponentit. Yllä oleva lauseke antaa meille tarkan arvon invariantille massalle, ja käytetään sitä aina kun mahdollista. \n",
    "\n",
    "Joistakin dataseteistä ei kuitenkaan löydy liikemäärän komponentteja suoraan. Tällöin voidaan käyttää approksimaatiota, joka sopii tilanteisiin, joissa E >> m (kuten kiihdyttimissä tuppaa olemaan). Tässä lausekkeessa $p_T$ on liikemäärän hiukkassuihkua vastaan kohtisuora komponentti, $\\eta$ pseudorapiditeetti ja $\\phi$ atsimuuttikulma:\n",
    "\n",
    "$$M = \\sqrt{2p_{T1}p_{T2}(\\cosh(\\eta_1-\\eta_2)-\\cos(\\phi_1-\\phi_2))}.$$\n",
    "\n",
    "\n",
    "Alla olevassa laskussa käytämme apuna *numpy*-moduulia, jonka nimesimme yllä *np*:ksi. Moduulin avulla voimme suorittaa matemaattisia komentoja, esimerkiksi *sqrt* ja *cosh* kutsumalla ensin moduulin nimeä ja pisteellä erottaen komentoa (esimerkiksi *np.sqrt*). Voimme myös helposti käyttää potensseja ilman *numpy*-kirjastoa käyttämällä \\*\\*-operaattoria (esim. x² kirjoitetaan x**2).\n",
    "\n",
    "Nyt voimme laskea invariatin massan arvot eri tapahtumille. Datassa esiintyviin muuttujiin pääset käsiksi kirjoittamalla '*datasetti.muuttuja*'. Esimerkiksi, jos haluat valita datasetistä kaikki myonin 1 energian arvot, voit kirjoittaa koodisoluun '*datasetti.E1*'."
   ]
  },
  {
   "cell_type": "markdown",
   "metadata": {},
   "source": [
    "> Laske kaikille tapahtumille invariantti massa ja tallenna ne muuttujaan 'invariantti_massa'\n",
    "<br>\n",
    "$\\color{purple}{\\text{Kirjoita koodi alle}}$"
   ]
  },
  {
   "cell_type": "code",
   "execution_count": null,
   "metadata": {},
   "outputs": [],
   "source": [
    "# Laske invariantti massa ja tallenna muuttujana invariantti_massa\n",
    "\n"
   ]
  },
  {
   "cell_type": "markdown",
   "metadata": {},
   "source": [
    "> Tarkasta aiemmin käytetyn head() -metodin avulla, mitä muuttuja *invariantti_massa* nyt sisältää.\n",
    "<br>\n",
    "$\\color{purple}{\\text{Kirjoita koodi alle}}$"
   ]
  },
  {
   "cell_type": "code",
   "execution_count": null,
   "metadata": {},
   "outputs": [],
   "source": [
    "# Tulosta näytölle muuttujan invariantti_massa viisi ensimmäistä riviä\n",
    "\n"
   ]
  },
  {
   "cell_type": "markdown",
   "metadata": {},
   "source": [
    "Aja alla oleva koodi nähdäksesi invariantin massan histogrammi laskemistasi arvoista. Histogrammin piirtämiseen palataan tarkemmin harjoituksessa 2."
   ]
  },
  {
   "cell_type": "code",
   "execution_count": null,
   "metadata": {},
   "outputs": [],
   "source": [
    "import matplotlib.pyplot as plt\n",
    "\n",
    "plt.hist(invariantti_massa, bins=60)\n",
    "plt.title('Kahden myonin invariantti massa')\n",
    "plt.xlabel('Invariantti massa (GeV)')\n",
    "plt.ylabel('Tapahtumia/GeV')\n",
    "plt.show()"
   ]
  },
  {
   "cell_type": "markdown",
   "metadata": {},
   "source": [
    "> Mitä invariantin massan histogrammi kertoo?\n",
    "<br>\n",
    "> Miksi noin 90 GeV kohdalla on enemmän tapahtumia kuin muualla?"
   ]
  },
  {
   "cell_type": "markdown",
   "metadata": {},
   "source": [
    "### Lähteet\n",
    "\n",
    "\n",
    "[1]  McCauley, Thomas; (2014). Z to two muons from 2010. CERN Open Data Portal. [DOI:10.7483/OPENDATA.CMS.XBN9.HFGT](http://doi.org/10.7483/OPENDATA.CMS.XBN9.HFGT)\n",
    "\n",
    "[3] Hiukkasfysiikan sanastoa englanniksi\n",
    "Url: https://atlas.cern/glossary\n",
    "\n",
    "[4] Determination of the off-shell Higgs boson signal strength in the high-mass ZZ final state with the ATLAS detector.\n",
    "Url: https://atlas.cern/updates/physics-briefing/higgs-boson-s-shadow\n",
    "\n",
    "### Kuvat\n",
    "[Kuva 1] HLT Dimuon Invariant Mass Distributions in 2017 and 2018 ( CMS DP-2018/055)\n",
    "Url: https://twiki.cern.ch/twiki/bin/view/CMSPublic/HLTDiMuon2017and2018"
   ]
  }
 ],
 "metadata": {
  "kernelspec": {
   "display_name": "Python 3 (ipykernel)",
   "language": "python",
   "name": "python3"
  },
  "language_info": {
   "codemirror_mode": {
    "name": "ipython",
    "version": 3
   },
   "file_extension": ".py",
   "mimetype": "text/x-python",
   "name": "python",
   "nbconvert_exporter": "python",
   "pygments_lexer": "ipython3",
   "version": "3.9.12"
  }
 },
 "nbformat": 4,
 "nbformat_minor": 2
}
